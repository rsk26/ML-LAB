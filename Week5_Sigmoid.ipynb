{
  "nbformat": 4,
  "nbformat_minor": 0,
  "metadata": {
    "colab": {
      "provenance": []
    },
    "kernelspec": {
      "name": "python3",
      "display_name": "Python 3"
    },
    "language_info": {
      "name": "python"
    }
  },
  "cells": [
    {
      "cell_type": "code",
      "execution_count": 3,
      "metadata": {
        "colab": {
          "base_uri": "https://localhost:8080/"
        },
        "id": "VguIBvQh9R8v",
        "outputId": "92cb182b-30f8-4153-c893-0407039ede63"
      },
      "outputs": [
        {
          "output_type": "stream",
          "name": "stdout",
          "text": [
            "Probability for age 35: 0.4850044983805899\n",
            "Probability for age 43: 0.568565299077705\n"
          ]
        }
      ],
      "source": [
        "import math\n",
        "\n",
        "def sigmoid(x):\n",
        "    return 1 / (1 + math.exp(-x))\n",
        "\n",
        "def prediction_function(age):\n",
        "    z = 0.042 * age - 1.53\n",
        "    y = sigmoid(z)\n",
        "    return y\n",
        "\n",
        "# Check for age = 35\n",
        "age_35_probability = prediction_function(35)\n",
        "print(\"Probability for age 35:\", age_35_probability)\n",
        "\n",
        "# Check for age = 43\n",
        "age_43_probability = prediction_function(43)\n",
        "print(\"Probability for age 43:\", age_43_probability)\n"
      ]
    },
    {
      "cell_type": "code",
      "source": [],
      "metadata": {
        "colab": {
          "base_uri": "https://localhost:8080/"
        },
        "id": "rSAJ7zct9g0n",
        "outputId": "95b2c53b-95eb-493b-c386-85162749b862"
      },
      "execution_count": 2,
      "outputs": [
        {
          "output_type": "stream",
          "name": "stdout",
          "text": [
            "0.5\n"
          ]
        }
      ]
    },
    {
      "cell_type": "code",
      "source": [],
      "metadata": {
        "id": "L3DJ1QKg9g3O"
      },
      "execution_count": null,
      "outputs": []
    },
    {
      "cell_type": "code",
      "source": [],
      "metadata": {
        "id": "9FJ5n5t19g53"
      },
      "execution_count": null,
      "outputs": []
    },
    {
      "cell_type": "code",
      "source": [],
      "metadata": {
        "id": "vJi3tVnJ9g8w"
      },
      "execution_count": null,
      "outputs": []
    }
  ]
}