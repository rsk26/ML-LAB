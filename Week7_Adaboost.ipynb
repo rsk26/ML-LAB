{
  "nbformat": 4,
  "nbformat_minor": 0,
  "metadata": {
    "colab": {
      "provenance": []
    },
    "kernelspec": {
      "name": "python3",
      "display_name": "Python 3"
    },
    "language_info": {
      "name": "python"
    }
  },
  "cells": [
    {
      "cell_type": "code",
      "execution_count": 3,
      "metadata": {
        "id": "QYp3NtgyTALp"
      },
      "outputs": [],
      "source": [
        "# Import necessary libraries\n",
        "import pandas as pd\n",
        "from sklearn.model_selection import train_test_split\n",
        "from sklearn.ensemble import AdaBoostClassifier\n",
        "from sklearn.metrics import accuracy_score\n",
        "\n"
      ]
    },
    {
      "cell_type": "code",
      "source": [
        "\n",
        "data = pd.read_csv('/content/iris.csv')\n",
        "\n"
      ],
      "metadata": {
        "id": "lyHnpP2fTuTp"
      },
      "execution_count": 9,
      "outputs": []
    },
    {
      "cell_type": "code",
      "source": [
        "# Separate independent variables (features) and target variable\n",
        "X = data.drop(columns=[\"Species\"])\n",
        "y = data[\"Species\"]\n",
        "\n",
        "# Split data into train and test sets\n",
        "X_train, X_test, y_train, y_test = train_test_split(X, y, test_size=0.2, random_state=42)  # Adjust test_size as needed\n",
        "\n",
        "# Create AdaBoostClassifier object\n",
        "adaboost_clf = AdaBoostClassifier(n_estimators=150, learning_rate=1)  # Adjust parameters as needed\n",
        "\n",
        "# Fit the model\n",
        "adaboost_clf.fit(X_train, y_train)\n",
        "\n",
        "# Predict\n",
        "y_pred = adaboost_clf.predict(X_test)\n",
        "\n",
        "# Calculate accuracy\n",
        "accuracy = accuracy_score(y_test, y_pred)\n",
        "print(\"Accuracy:\", accuracy)"
      ],
      "metadata": {
        "colab": {
          "base_uri": "https://localhost:8080/"
        },
        "id": "YbBbMS95TuX3",
        "outputId": "fa95e935-4df1-42e2-818d-d4f92ad4ea4a"
      },
      "execution_count": 11,
      "outputs": [
        {
          "output_type": "stream",
          "name": "stdout",
          "text": [
            "Accuracy: 1.0\n"
          ]
        }
      ]
    }
  ]
}