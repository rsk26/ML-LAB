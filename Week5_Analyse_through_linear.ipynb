{
  "nbformat": 4,
  "nbformat_minor": 0,
  "metadata": {
    "colab": {
      "provenance": []
    },
    "kernelspec": {
      "name": "python3",
      "display_name": "Python 3"
    },
    "language_info": {
      "name": "python"
    }
  },
  "cells": [
    {
      "cell_type": "code",
      "execution_count": 1,
      "metadata": {
        "id": "N1qHSwgl7eLi"
      },
      "outputs": [],
      "source": [
        "import numpy as np\n",
        "from sklearn.linear_model import LinearRegression"
      ]
    },
    {
      "cell_type": "code",
      "source": [
        "# Sample data\n",
        "X = np.array([[1], [2], [3], [4]])\n",
        "y = np.array([2, 3, 4, 5])"
      ],
      "metadata": {
        "id": "2Obmmbzx71oQ"
      },
      "execution_count": 2,
      "outputs": []
    },
    {
      "cell_type": "code",
      "source": [
        "# Create and fit the model\n",
        "model = LinearRegression().fit(X, y)"
      ],
      "metadata": {
        "id": "HRcAhFhu72WX"
      },
      "execution_count": 3,
      "outputs": []
    },
    {
      "cell_type": "code",
      "source": [
        "# Coefficient (slope)\n",
        "m = model.coef_\n",
        "print(\"Coefficient (slope):\", m)"
      ],
      "metadata": {
        "colab": {
          "base_uri": "https://localhost:8080/"
        },
        "id": "oOatUDd_72ZO",
        "outputId": "1cb0d0db-6bbc-474b-afb2-7a6c8d8bcbc3"
      },
      "execution_count": 4,
      "outputs": [
        {
          "output_type": "stream",
          "name": "stdout",
          "text": [
            "Coefficient (slope): [1.]\n"
          ]
        }
      ]
    },
    {
      "cell_type": "code",
      "source": [
        "# Intercept\n",
        "b = model.intercept_\n",
        "print(\"Intercept:\", b)"
      ],
      "metadata": {
        "colab": {
          "base_uri": "https://localhost:8080/"
        },
        "id": "YYZfWOoQ71q2",
        "outputId": "de4614ad-8a28-4cda-a438-e97f1a61fb75"
      },
      "execution_count": 5,
      "outputs": [
        {
          "output_type": "stream",
          "name": "stdout",
          "text": [
            "Intercept: 1.0\n"
          ]
        }
      ]
    }
  ]
}