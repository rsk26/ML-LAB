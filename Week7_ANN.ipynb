{
  "nbformat": 4,
  "nbformat_minor": 0,
  "metadata": {
    "colab": {
      "provenance": []
    },
    "kernelspec": {
      "name": "python3",
      "display_name": "Python 3"
    },
    "language_info": {
      "name": "python"
    }
  },
  "cells": [
    {
      "cell_type": "code",
      "execution_count": 1,
      "metadata": {
        "id": "g64yXWVjC_B9"
      },
      "outputs": [],
      "source": [
        "import numpy as np\n"
      ]
    },
    {
      "cell_type": "code",
      "source": [
        "# Input data\n",
        "X = np.array(([2, 9], [1, 5], [3, 6]), dtype=float)  # Two inputs [sleep, study]\n",
        "Y = np.array(([92], [86], [89]), dtype=float)  # One output [Expected & in Exams]\n",
        "\n",
        "# Normalize input data\n",
        "X = X / np.amax(X, axis=0)  # Maximum of X array longitudinally\n",
        "Y = Y / 100\n",
        "\n",
        "\n"
      ],
      "metadata": {
        "id": "Clqt6fYkD5dz"
      },
      "execution_count": 2,
      "outputs": []
    },
    {
      "cell_type": "code",
      "source": [
        "# Variable initialization\n",
        "epoch = 5000  # Setting training iterations\n",
        "lr = 0.1  # Setting learning rate\n",
        "inputlayer_neurons = 2  # Number of features in the dataset\n",
        "hiddenlayer_neurons = 3  # Number of hidden layer neurons\n",
        "output_neurons = 1  # Number of neurons at output layer\n",
        "\n"
      ],
      "metadata": {
        "id": "wzKZoUgQD5gr"
      },
      "execution_count": 3,
      "outputs": []
    },
    {
      "cell_type": "code",
      "source": [
        "# Weight and bias initialization\n",
        "wh = np.random.uniform(size=(inputlayer_neurons, hiddenlayer_neurons))  # Weight of the link from input to hidden layer\n",
        "bh = np.random.uniform(size=(1, hiddenlayer_neurons))  # Bias of the link from input node to hidden layer\n",
        "wout = np.random.uniform(size=(hiddenlayer_neurons, output_neurons))  # Weight of the link from hidden to output layer\n",
        "bout = np.random.uniform(size=(1, output_neurons))  # Bias of the link from hidden node to output layer"
      ],
      "metadata": {
        "id": "X5PZVwR6D5jL"
      },
      "execution_count": 4,
      "outputs": []
    },
    {
      "cell_type": "code",
      "source": [
        "# Sigmoid Function\n",
        "def sigmoid(x):\n",
        "    return 1 / (1 + np.exp(-x))\n",
        "\n",
        "# Derivative of Sigmoid Function\n",
        "def derivatives_sigmoid(x):\n",
        "    return x * (1 - x)\n",
        "\n",
        "# Forward Propagation\n",
        "for i in range(epoch):\n",
        "    # Forward Propagation\n",
        "    hinp1 = np.dot(X, wh)\n",
        "    hinp = hinp1 + bh\n",
        "    hlayer_act = sigmoid(hinp)\n",
        "    outinpi = np.dot(hlayer_act, wout)\n",
        "    outinp = outinpi + bout\n",
        "    output = sigmoid(outinp)\n",
        "\n",
        "    # Backpropagation\n",
        "    EO = Y - output\n",
        "    outgrad = derivatives_sigmoid(output)\n",
        "    d_output = EO * outgrad\n",
        "    EH = d_output.dot(wout.T)\n"
      ],
      "metadata": {
        "id": "a-ODtvJFD5lq"
      },
      "execution_count": 5,
      "outputs": []
    },
    {
      "cell_type": "code",
      "source": [
        "# How much hidden layer weights contributed to error\n",
        "hiddengrad = derivatives_sigmoid(hlayer_act)\n",
        "d_hiddenlayer = EH * hiddengrad  # Dot product of next layer error and current layer output\n",
        "\n",
        "# Update weights for the output layer\n",
        "wout += hlayer_act.T.dot(d_output) * lr\n",
        "\n",
        "# Update weights for the hidden layer\n",
        "wh += X.T.dot(d_hiddenlayer) * lr\n",
        "\n",
        "# Print input, actual output, and predicted output\n",
        "print(\"Input:\\n\" + str(X))\n",
        "print(\"Actual Output:\\n\" + str(Y))\n",
        "print(\"Predicted Output:\\n\", output)\n"
      ],
      "metadata": {
        "colab": {
          "base_uri": "https://localhost:8080/"
        },
        "id": "94HYf5xGD5oS",
        "outputId": "bd0137d2-c29e-440c-cbd0-e709f0c53106"
      },
      "execution_count": 6,
      "outputs": [
        {
          "output_type": "stream",
          "name": "stdout",
          "text": [
            "Input:\n",
            "[[0.66666667 1.        ]\n",
            " [0.33333333 0.55555556]\n",
            " [1.         0.66666667]]\n",
            "Actual Output:\n",
            "[[0.92]\n",
            " [0.86]\n",
            " [0.89]]\n",
            "Predicted Output:\n",
            " [[0.8196977 ]\n",
            " [0.79696237]\n",
            " [0.81616067]]\n"
          ]
        }
      ]
    },
    {
      "cell_type": "code",
      "source": [],
      "metadata": {
        "id": "wFVc6AChD5rL"
      },
      "execution_count": null,
      "outputs": []
    }
  ]
}